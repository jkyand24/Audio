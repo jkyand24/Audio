{
 "cells": [
  {
   "cell_type": "code",
   "execution_count": 38,
   "metadata": {},
   "outputs": [],
   "source": [
    "import librosa\n",
    "import librosa.display\n",
    "import matplotlib.pyplot as plt\n",
    "import os \n",
    "import glob\n",
    "import numpy as np\n",
    "import IPython\n",
    "import random"
   ]
  },
  {
   "cell_type": "code",
   "execution_count": 39,
   "metadata": {},
   "outputs": [],
   "source": [
    "audio = \"./data/blues.00001.wav\"\n",
    "\n",
    "data, sr = librosa.load(audio, sr=22050)\n",
    "\n",
    "IPython.display.Audio(data, rate=sr)\n",
    "\n",
    "plt.figure(figsize=(12, 4))\n",
    "librosa.display.waveshow(data, color=\"purple\")\n",
    "plt.savefig(\"./result/waveshow_original.png\", bbox_inches='tight', pad_inches=0)\n",
    "plt.close()\n",
    "\n",
    "# section\n",
    "\n",
    "start_time = 0\n",
    "end_time = 10\n",
    "start_sample = sr * start_time\n",
    "end_sample = sr * end_time\n",
    "\n",
    "data_section = data[start_sample : end_sample]\n",
    "\n",
    "plt.figure(figsize=(12, 4))\n",
    "librosa.display.waveshow(data_section, color=\"purple\")\n",
    "plt.savefig(\"./result/waveshow_0-10.png\", bbox_inches='tight', pad_inches=0)\n",
    "plt.close()\n",
    "\n",
    "# add noise\n",
    "\n",
    "noise = 0.05 * np.random.rand(*data_section.shape) # *: tuple의 요소 하나씩을 의미 (tuple[0], tuple[1], ...)\n",
    "\n",
    "data_noise = data_section + noise\n",
    "\n",
    "plt.figure(figsize=(12, 4))\n",
    "librosa.display.waveshow(data_noise, color=\"purple\")\n",
    "plt.savefig(\"./result/waveshow_0-10_noise.png\", bbox_inches='tight', pad_inches=0)\n",
    "plt.close()\n",
    "\n",
    "# stretch\n",
    "\n",
    "data_stretch = librosa.effects.time_stretch(data_section, rate=0.8)\n",
    "\n",
    "plt.figure(figsize=(12, 4))\n",
    "librosa.display.waveshow(data_stretch, color=\"purple\")\n",
    "plt.savefig(\"./result/waveshow_0-10_stretch.png\", bbox_inches='tight', pad_inches=0)\n",
    "plt.close()"
   ]
  }
 ],
 "metadata": {
  "kernelspec": {
   "display_name": "AI",
   "language": "python",
   "name": "ai"
  },
  "language_info": {
   "codemirror_mode": {
    "name": "ipython",
    "version": 3
   },
   "file_extension": ".py",
   "mimetype": "text/x-python",
   "name": "python",
   "nbconvert_exporter": "python",
   "pygments_lexer": "ipython3",
   "version": "3.8.16"
  },
  "orig_nbformat": 4
 },
 "nbformat": 4,
 "nbformat_minor": 2
}
