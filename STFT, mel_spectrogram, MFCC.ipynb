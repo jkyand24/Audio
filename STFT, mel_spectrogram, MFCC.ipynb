{
 "cells": [
  {
   "cell_type": "code",
   "execution_count": 7,
   "metadata": {},
   "outputs": [],
   "source": [
    "import librosa\n",
    "import librosa.display\n",
    "import numpy as np\n",
    "import matplotlib.pyplot as plt"
   ]
  },
  {
   "cell_type": "code",
   "execution_count": 8,
   "metadata": {},
   "outputs": [
    {
     "data": {
      "text/plain": [
       "<Figure size 1000x400 with 0 Axes>"
      ]
     },
     "metadata": {},
     "output_type": "display_data"
    },
    {
     "ename": "AttributeError",
     "evalue": "module 'matplotlib' has no attribute 'pyplot'",
     "output_type": "error",
     "traceback": [
      "\u001b[1;31m---------------------------------------------------------------------------\u001b[0m",
      "\u001b[1;31mAttributeError\u001b[0m                            Traceback (most recent call last)",
      "File \u001b[1;32mc:\\ProgramData\\Anaconda3\\envs\\AI\\lib\\site-packages\\matplotlib_inline\\backend_inline.py:99\u001b[0m, in \u001b[0;36mshow\u001b[1;34m(close, block)\u001b[0m\n\u001b[0;32m     96\u001b[0m \u001b[39m# only call close('all') if any to close\u001b[39;00m\n\u001b[0;32m     97\u001b[0m \u001b[39m# close triggers gc.collect, which can be slow\u001b[39;00m\n\u001b[0;32m     98\u001b[0m \u001b[39mif\u001b[39;00m close \u001b[39mand\u001b[39;00m Gcf\u001b[39m.\u001b[39mget_all_fig_managers():\n\u001b[1;32m---> 99\u001b[0m     matplotlib\u001b[39m.\u001b[39;49mpyplot\u001b[39m.\u001b[39mclose(\u001b[39m'\u001b[39m\u001b[39mall\u001b[39m\u001b[39m'\u001b[39m)\n",
      "File \u001b[1;32mc:\\ProgramData\\Anaconda3\\envs\\AI\\lib\\site-packages\\matplotlib\\_api\\__init__.py:226\u001b[0m, in \u001b[0;36mcaching_module_getattr.<locals>.__getattr__\u001b[1;34m(name)\u001b[0m\n\u001b[0;32m    224\u001b[0m \u001b[39mif\u001b[39;00m name \u001b[39min\u001b[39;00m props:\n\u001b[0;32m    225\u001b[0m     \u001b[39mreturn\u001b[39;00m props[name]\u001b[39m.\u001b[39m\u001b[39m__get__\u001b[39m(instance)\n\u001b[1;32m--> 226\u001b[0m \u001b[39mraise\u001b[39;00m \u001b[39mAttributeError\u001b[39;00m(\n\u001b[0;32m    227\u001b[0m     \u001b[39mf\u001b[39m\u001b[39m\"\u001b[39m\u001b[39mmodule \u001b[39m\u001b[39m{\u001b[39;00m\u001b[39mcls\u001b[39m\u001b[39m.\u001b[39m\u001b[39m__module__\u001b[39m\u001b[39m!r}\u001b[39;00m\u001b[39m has no attribute \u001b[39m\u001b[39m{\u001b[39;00mname\u001b[39m!r}\u001b[39;00m\u001b[39m\"\u001b[39m)\n",
      "\u001b[1;31mAttributeError\u001b[0m: module 'matplotlib' has no attribute 'pyplot'"
     ]
    }
   ],
   "source": [
    "# STFT\n",
    "\n",
    "file_path = \"./data/blues.00001.wav\"\n",
    "y, sr = librosa.load(file_path)\n",
    "\n",
    "hop_length = 512\n",
    "n_fft = 2048\n",
    "complex = librosa.stft(y, n_fft=n_fft, hop_length=hop_length)\n",
    "\n",
    "# mel spectrogram: spectrogram where the frequencies are converted to the mel scale\n",
    "\n",
    "n_mels = 40\n",
    "mel_spec = librosa.feature.melspectrogram(S=librosa.power_to_db(np.abs(complex) ** 2), sr=sr, n_mels=n_mels)\n",
    "\n",
    "# MFCC: mel spectrum에 log, IDFT 적용한 것\n",
    "\n",
    "n_mfcc = 13\n",
    "mfccs = librosa.feature.mfcc(S = librosa.power_to_db(mel_spec), n_mfcc=n_mfcc)\n",
    "\n",
    "# 시각화\n",
    "\n",
    "plt.figure(figsize=(10, 4))\n",
    "\n",
    "librosa.display.specshow(mel_spec, x_axis='time')\n",
    "plt.tight_layout()\n",
    "\n",
    "plt.savefig(\"./result/mel_spectrogram.png\", dpi=300, bbox_inches='tight')\n",
    "\n",
    "plt.close()\n",
    "\n",
    "plt.figure(figsize=(10, 4))\n",
    "\n",
    "librosa.display.specshow(mfccs, x_axis='time')\n",
    "plt.tight_layout()\n",
    "\n",
    "plt.savefig(\"./result/MFCC.png\", dpi=300, bbox_inches='tight')\n",
    "\n",
    "plt.close()"
   ]
  },
  {
   "cell_type": "code",
   "execution_count": null,
   "metadata": {},
   "outputs": [],
   "source": []
  }
 ],
 "metadata": {
  "kernelspec": {
   "display_name": "AI",
   "language": "python",
   "name": "ai"
  },
  "language_info": {
   "codemirror_mode": {
    "name": "ipython",
    "version": 3
   },
   "file_extension": ".py",
   "mimetype": "text/x-python",
   "name": "python",
   "nbconvert_exporter": "python",
   "pygments_lexer": "ipython3",
   "version": "3.8.16"
  },
  "orig_nbformat": 4
 },
 "nbformat": 4,
 "nbformat_minor": 2
}
