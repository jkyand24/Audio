{
 "cells": [
  {
   "cell_type": "code",
   "execution_count": 13,
   "metadata": {},
   "outputs": [],
   "source": [
    "from PIL import Image\n",
    "import os\n",
    "import glob"
   ]
  },
  {
   "cell_type": "code",
   "execution_count": 14,
   "metadata": {},
   "outputs": [
    {
     "name": "stderr",
     "output_type": "stream",
     "text": [
      "C:\\Users\\정기연\\AppData\\Local\\Temp\\ipykernel_2216\\2909822670.py:22: DeprecationWarning: ANTIALIAS is deprecated and will be removed in Pillow 10 (2023-07-01). Use LANCZOS or Resampling.LANCZOS instead.\n",
      "  img = img.resize((new_size, new_size), Image.ANTIALIAS)\n"
     ]
    }
   ],
   "source": [
    "def expend2square(pil_image, background_color):\n",
    "    width, height = pil_image.size\n",
    "    \n",
    "    if width == height:\n",
    "        \n",
    "        return pil_image\n",
    "    \n",
    "    elif width > height:\n",
    "        result = Image.new(pil_image.mode, (width, width), background_color)\n",
    "        result.paste(pil_image, (0, (width - height) // 2))\n",
    "        \n",
    "        return result\n",
    "    \n",
    "    else:\n",
    "        result = Image.new(pil_image.mode, (height, height), background_color)\n",
    "        result.paste(pil_image, ((height - width) // 2, 0))\n",
    "        \n",
    "        return result\n",
    "    \n",
    "def resize_with_padding(pil_image, new_size, background_color):\n",
    "    img = expend2square(pil_image, background_color)\n",
    "    img = img.resize((new_size, new_size), Image.ANTIALIAS)\n",
    "    \n",
    "    return img\n",
    "\n",
    "img_path_list = glob.glob(os.path.join(\"./result/\", \"*.png\"))\n",
    "\n",
    "os.makedirs(\"./resize\", exist_ok=True)\n",
    "\n",
    "for i, img_path in enumerate(img_path_list):\n",
    "    img = Image.open(img_path)\n",
    "    img_new = resize_with_padding(img, 255, (0, 0, 0))\n",
    "    save_path = f\"./resize/{str(i).zfill(4)}_resize_img.png\"\n",
    "    img_new.save(save_path, \"png\")"
   ]
  },
  {
   "cell_type": "code",
   "execution_count": null,
   "metadata": {},
   "outputs": [],
   "source": []
  }
 ],
 "metadata": {
  "kernelspec": {
   "display_name": "AI",
   "language": "python",
   "name": "ai"
  },
  "language_info": {
   "codemirror_mode": {
    "name": "ipython",
    "version": 3
   },
   "file_extension": ".py",
   "mimetype": "text/x-python",
   "name": "python",
   "nbconvert_exporter": "python",
   "pygments_lexer": "ipython3",
   "version": "3.8.16"
  },
  "orig_nbformat": 4
 },
 "nbformat": 4,
 "nbformat_minor": 2
}
