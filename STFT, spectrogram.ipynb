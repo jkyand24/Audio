{
 "cells": [
  {
   "cell_type": "code",
   "execution_count": 49,
   "metadata": {},
   "outputs": [],
   "source": [
    "import librosa\n",
    "import librosa.display\n",
    "import matplotlib.pyplot as plt\n",
    "import numpy as np\n",
    "import IPython.display as ipd"
   ]
  },
  {
   "cell_type": "code",
   "execution_count": 50,
   "metadata": {},
   "outputs": [],
   "source": [
    "# start에 시작해 duration동안의 time - amplitude 준비하기\n",
    "\n",
    "file_path = './data/blues.00001.wav'\n",
    "\n",
    "y, sr = librosa.load(file_path) # y: amplitudes, y.shape: (661794,), sr: 22050\n",
    "\n",
    "ipd.Audio(y, rate=sr)\n",
    "\n",
    "duration = 10\n",
    "samples = int(duration * sr)\n",
    "start = 0\n",
    "\n",
    "y = y[start : start+samples]\n",
    "\n",
    "# Spectrogram 만들기: DFT -> absolute value -> to logarithmic scale\n",
    "# Spectrogram: time 축 & frequency 축 에서, 각 piexl의 value는 해당 time, frequency에서의 magnitude (amplitude) (여기서는 dB로 바꾸어줌)\n",
    "\n",
    "complex = librosa.stft(y) # complex.shape: (1025, 431)\n",
    "    # Short-time Fourier transform: \n",
    "    # returns complex numbers in the time-frequency domain   by computing discrete Fourier transforms (DFT) over short overlapping windows\n",
    "    # complex numbers: phase and amplitude of the audio signal\n",
    "\n",
    "amplitude = np.abs(complex)\n",
    "\n",
    "decibel = librosa.amplitude_to_db(amplitude, ref=np.max)\n",
    "    # amplitude -> dB\n",
    "    # logarithmic scale로 바뀜 => linear scale일 때보다, 우리 귀에 들리는 정도를 더 잘 표현함\n",
    "    # limits the numerical range (ex. 0-120 dB)\n",
    "    \n",
    "# 시각화\n",
    "\n",
    "librosa.display.specshow(decibel, sr=sr, y_axis='log', x_axis='time')\n",
    "\n",
    "plt.savefig('./result/spectrogram.png')\n",
    "plt.close()"
   ]
  }
 ],
 "metadata": {
  "kernelspec": {
   "display_name": "AI",
   "language": "python",
   "name": "ai"
  },
  "language_info": {
   "codemirror_mode": {
    "name": "ipython",
    "version": 3
   },
   "file_extension": ".py",
   "mimetype": "text/x-python",
   "name": "python",
   "nbconvert_exporter": "python",
   "pygments_lexer": "ipython3",
   "version": "3.8.16"
  },
  "orig_nbformat": 4
 },
 "nbformat": 4,
 "nbformat_minor": 2
}
